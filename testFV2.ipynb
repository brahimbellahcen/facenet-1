{
 "nbformat": 4,
 "nbformat_minor": 2,
 "metadata": {
  "language_info": {
   "name": "python",
   "codemirror_mode": {
    "name": "ipython",
    "version": 3
   },
   "version": "3.6.10-final"
  },
  "orig_nbformat": 2,
  "file_extension": ".py",
  "mimetype": "text/x-python",
  "name": "python",
  "npconvert_exporter": "python",
  "pygments_lexer": "ipython3",
  "version": 3,
  "kernelspec": {
   "name": "python361064bitai36conda0be68531b089443e9eb527e23926f46b",
   "display_name": "Python 3.6.10 64-bit ('ai36': conda)"
  }
 },
 "cells": [
  {
   "cell_type": "code",
   "execution_count": 1,
   "metadata": {},
   "outputs": [
    {
     "output_type": "stream",
     "name": "stderr",
     "text": "Using TensorFlow backend.\nWARNING:tensorflow:No training configuration found in save file: the model was *not* compiled. Compile it manually.\n"
    }
   ],
   "source": [
    "from face_verification import verification_file\n",
    "from tensorflow.keras.models import load_model\n",
    "\n",
    "model = load_model('model/facenet_keras.h5')"
   ]
  },
  {
   "cell_type": "code",
   "execution_count": null,
   "metadata": {},
   "outputs": [],
   "source": [
    "dir = 'C:/Users/T470/OneDrive - Hanoi University of Science and Technology/Pictures/Camera Roll/'\n",
    "file2 = 'data/FV_test/ducnv/anh_20173033.png'\n",
    "for i in range(6):\n",
    "    file1 = dir + str(i+1) +'.jpg'\n",
    "    verification_file(file1, file2, model=model, plot=True)"
   ]
  },
  {
   "cell_type": "code",
   "execution_count": null,
   "metadata": {},
   "outputs": [],
   "source": []
  }
 ]
}