{
 "nbformat": 4,
 "nbformat_minor": 2,
 "metadata": {
  "language_info": {
   "name": "python",
   "codemirror_mode": {
    "name": "ipython",
    "version": 3
   },
   "version": "3.6.10-final"
  },
  "orig_nbformat": 2,
  "file_extension": ".py",
  "mimetype": "text/x-python",
  "name": "python",
  "npconvert_exporter": "python",
  "pygments_lexer": "ipython3",
  "version": 3,
  "kernelspec": {
   "name": "python361064bitai36conda0be68531b089443e9eb527e23926f46b",
   "display_name": "Python 3.6.10 64-bit ('ai36': conda)"
  }
 },
 "cells": [
  {
   "cell_type": "code",
   "execution_count": 107,
   "metadata": {},
   "outputs": [],
   "source": [
    "from PIL import Image\n",
    "from joblib import load\n",
    "from tensorflow.keras.models import load_model\n",
    "\n",
    "import CONSTANTS\n",
    "from detect import extract_face\n",
    "from extract_features import get_embedding\n",
    "\n",
    "\n",
    ""
   ]
  },
  {
   "cell_type": "code",
   "execution_count": 110,
   "metadata": {},
   "outputs": [
    {
     "output_type": "stream",
     "name": "stdout",
     "text": "WARNING:tensorflow:No training configuration found in save file: the model was *not* compiled. Compile it manually.\n"
    }
   ],
   "source": [
    "facenet = load_model(CONSTANTS.root + '/model/facenet_keras.h5')\n",
    "file = CONSTANTS.root + '/data/VNCeleb-dataset/testVNCeleb/CDN.jpg'\n",
    "face = extract_face(file)\n",
    "emb = get_embedding(facenet, face)\n",
    "\n",
    "SVM_model = load(CONSTANTS.root +'/model/SVM_FR_VNCeleb.joblib')\n",
    ""
   ]
  },
  {
   "cell_type": "code",
   "execution_count": 112,
   "metadata": {},
   "outputs": [],
   "source": [
    "sample = np.expand_dims(emb, axis=0)"
   ]
  },
  {
   "cell_type": "code",
   "execution_count": 114,
   "metadata": {},
   "outputs": [
    {
     "output_type": "execute_result",
     "data": {
      "text/plain": "array([0], dtype=int64)"
     },
     "metadata": {},
     "execution_count": 114
    }
   ],
   "source": [
    "SVM_model.predict(sample)"
   ]
  },
  {
   "cell_type": "code",
   "execution_count": 117,
   "metadata": {},
   "outputs": [
    {
     "output_type": "execute_result",
     "data": {
      "text/plain": "array([0], dtype=int64)"
     },
     "metadata": {},
     "execution_count": 117
    }
   ],
   "source": [
    "file = CONSTANTS.root + '/data/VNCeleb-dataset/testVNCeleb/CDN2.jpeg'\n",
    "face = extract_face(file)\n",
    "emb = get_embedding(facenet, face)\n",
    "sample = np.expand_dims(emb, axis=0)\n",
    "SVM_model.predict(sample)"
   ]
  },
  {
   "cell_type": "code",
   "execution_count": null,
   "metadata": {},
   "outputs": [],
   "source": []
  }
 ]
}